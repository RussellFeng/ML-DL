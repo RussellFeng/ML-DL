{
 "cells": [
  {
   "cell_type": "markdown",
   "metadata": {},
   "source": [
    "回归模型\n",
    "$$y = \\frac{1}{{1 + {e^{ - z}}}}$$\n",
    "最小化\n",
    "$$l(\\boldsymbol \\beta ) = \\sum\\limits_{i = 1}^n {(-y_i\\boldsymbol{\\beta ^T}\\boldsymbol {\\hat x_i} + \\ln (1 + {e^{{\\beta ^T}\\hat x_i}}))} $$\n",
    "即\n",
    "$$\\beta ^* {\\text{ = }}\\mathop {\\arg \\min }\\limits_\\beta  l(\\beta )$$\n",
    "**以牛顿法求解为例**"
   ]
  },
  {
   "cell_type": "code",
   "execution_count": 1,
   "metadata": {},
   "outputs": [],
   "source": [
    "import os\n",
    "import numpy as np\n",
    "import pandas as pd\n",
    "import matplotlib.pyplot as plt\n",
    "import seaborn as sns\n",
    "%matplotlib inline"
   ]
  },
  {
   "cell_type": "code",
   "execution_count": 2,
   "metadata": {},
   "outputs": [
    {
     "data": {
      "text/plain": [
       "Iris-virginica     50\n",
       "Iris-versicolor    50\n",
       "Name: name, dtype: int64"
      ]
     },
     "execution_count": 2,
     "metadata": {},
     "output_type": "execute_result"
    }
   ],
   "source": [
    "data = pd.read_csv(\"../data/irisdata.txt\")\n",
    "# 只保留两种标签，进行二分类任务\n",
    "data = data[data['name'] != 'Iris-setosa']\n",
    "data['name'].value_counts()"
   ]
  },
  {
   "cell_type": "code",
   "execution_count": 3,
   "metadata": {},
   "outputs": [
    {
     "name": "stderr",
     "output_type": "stream",
     "text": [
      "/home/heolis/.conda/envs/tf/lib/python3.6/site-packages/ipykernel_launcher.py:4: SettingWithCopyWarning: \n",
      "A value is trying to be set on a copy of a slice from a DataFrame\n",
      "\n",
      "See the caveats in the documentation: http://pandas.pydata.org/pandas-docs/stable/indexing.html#indexing-view-versus-copy\n",
      "  after removing the cwd from sys.path.\n"
     ]
    }
   ],
   "source": [
    "# 分离标签，并将标签映射到数值\n",
    "y = data['name']\n",
    "y[y == 'Iris-versicolor'] = 1\n",
    "y[y == 'Iris-virginica'] = 0\n",
    "X = data.drop('name', axis=1)"
   ]
  },
  {
   "cell_type": "code",
   "execution_count": 4,
   "metadata": {},
   "outputs": [],
   "source": [
    "# 划分训练集和验证集\n",
    "from sklearn.model_selection import train_test_split\n",
    "X_train, X_test, y_train, y_test = train_test_split(X, y, test_size=0.5)"
   ]
  },
  {
   "cell_type": "code",
   "execution_count": 5,
   "metadata": {},
   "outputs": [],
   "source": [
    "class LogisticReressionClassifier:\n",
    "    def __init__(self, max_iter):\n",
    "        self.max_iter = max_iter\n",
    "        self.beta = np.nan\n",
    "        \n",
    "    def sigmod(self, z):\n",
    "        return 1 / (1 + np.exp(-z))\n",
    "    \n",
    "    def fit(self, X, y):\n",
    "        self.beta = np.random.normal(size=(X.shape[0], X.shape[1] + 1))\n",
    "        self.X_hat = np.c_[X, np.ones(X.shape[0])]\n",
    "        print(self.beta.shape, self.X_hat.shape)\n",
    "        self.loss_function(X, y)\n",
    "        for j in range(self.max_iter):\n",
    "            pd1 = 0  # 一阶偏导\n",
    "            for i in  range(len(y)):\n",
    "                pd1 -= self.X_hat[i]*(y[i] - self.sigmod(np.dot(self.beta[i].T, self.X_hat[i])))\n",
    "            pd2 = 0  # 二阶偏导\n",
    "            for i in range(len(y)):\n",
    "                pd2 += self.X_hat[i].dot(self.X_hat[i].T.dot(self.sigmod(self.beta[i].T.dot(self.X_hat[i]))*(1 - self.sigmod(self.beta[i].T.dot(self.X_hat[i])))))\n",
    "            self.beta = self.beta - (1 / pd2)*pd1\n",
    "        self.loss_function(X, y)\n",
    "        print(self.beta.mean(axis=0))\n",
    "        \n",
    "    def loss_function(self, X, y):\n",
    "        loss = 0\n",
    "        for i in range(len(y)):\n",
    "            loss += -y[i]*np.dot(self.beta[i].T, self.X_hat[i]) + np.log(1 + np.exp(np.dot(self.beta[i].T, self.X_hat[i])))\n",
    "        print(loss)\n",
    "    def predict(self, X):\n",
    "        y = []\n",
    "        X = np.c_[X, np.ones(X.shape[0])]\n",
    "        for i in range(X.shape[0]):\n",
    "            if (self.sigmod(np.mean(self.beta, axis=0).T.dot(X[i])) >= 0.5):\n",
    "                y.append(1)\n",
    "            else:\n",
    "                y.append(0)\n",
    "        return y\n"
   ]
  },
  {
   "cell_type": "code",
   "execution_count": 6,
   "metadata": {},
   "outputs": [],
   "source": [
    "clf = LogisticReressionClassifier(10000)"
   ]
  },
  {
   "cell_type": "code",
   "execution_count": 7,
   "metadata": {},
   "outputs": [
    {
     "name": "stdout",
     "output_type": "stream",
     "text": [
      "(50, 5) (50, 5)\n",
      "172.700415072482\n",
      "12.191770388709697\n",
      "[  1.17432869  39.89508512 -20.44033299 -31.78804254  29.34639182]\n"
     ]
    }
   ],
   "source": [
    "clf.fit(X_train.values, y_train.values)"
   ]
  },
  {
   "cell_type": "code",
   "execution_count": 8,
   "metadata": {},
   "outputs": [],
   "source": [
    "y_pred = clf.predict(X_test.values)"
   ]
  },
  {
   "cell_type": "code",
   "execution_count": 9,
   "metadata": {},
   "outputs": [
    {
     "data": {
      "text/plain": [
       "0.92"
      ]
     },
     "execution_count": 9,
     "metadata": {},
     "output_type": "execute_result"
    }
   ],
   "source": [
    "sum(y_pred == y_test)/len(y_test)"
   ]
  },
  {
   "cell_type": "code",
   "execution_count": null,
   "metadata": {},
   "outputs": [],
   "source": []
  }
 ],
 "metadata": {
  "kernelspec": {
   "display_name": "Python 3",
   "language": "python",
   "name": "python3"
  },
  "language_info": {
   "codemirror_mode": {
    "name": "ipython",
    "version": 3
   },
   "file_extension": ".py",
   "mimetype": "text/x-python",
   "name": "python",
   "nbconvert_exporter": "python",
   "pygments_lexer": "ipython3",
   "version": "3.6.8"
  }
 },
 "nbformat": 4,
 "nbformat_minor": 2
}
