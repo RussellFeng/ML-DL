{
 "cells": [
  {
   "cell_type": "markdown",
   "metadata": {},
   "source": [
    "# 线性回归"
   ]
  },
  {
   "cell_type": "markdown",
   "metadata": {},
   "source": [
    "给定训练集$D={(\\boldsymbol x_1, y_1), (\\boldsymbol x_2, y_2), ..., (\\boldsymbol x_i, y_i), ( \\boldsymbol x_n, y_n)}$，其中$\\boldsymbol {x_i} = (x_{i1};x_{i2}; ...; x_{im})$，$y_i\\in \\mathbb{R}$.线性回归（linear regression）试图学得一个线性模型以尽可能准确地预测实值输出`标记`。"
   ]
  },
  {
   "cell_type": "markdown",
   "metadata": {},
   "source": [
    "#### 以一元线性回归为例，来详细讲解$w$和$b$的最小二乘法估计。"
   ]
  },
  {
   "cell_type": "markdown",
   "metadata": {},
   "source": [
    "线性回归试图学得：$$f(x_i)=wx_i+b，使得f(x_i)\\simeq y_i$$\n",
    "\n",
    "- 最小二乘法是基于预测值和真实值的均方差最小化的方法来估计参数$w$和$b$，即：\n",
    "\n",
    "  $$\\eqalign{\n",
    "  (w^*,b^*) &  = \\mathop {\\arg \\min }\\limits_{(w,b)} \\sum\\limits_{i = 1}^n {{{(f({x_i}) - {y_i})}^2}}  \\cr \n",
    "   &  = \\mathop {\\arg \\min }\\limits_{(w,b)} \\sum\\limits_{i = 1}^n {{{({y_i} - w{x_i} - b)}^2}}  \\cr}$$\n",
    "   \n",
    "\n",
    "- 求解$w$和$b$使${E_{(w,b)}} = \\sum\\limits_{i = 1}^n {{{({y_i} - w{x_i} - b)}^2}}$最小化的过程，称为线性回归模型的最小二乘“参数估计”（parameter estimation）。\n",
    "\n",
    "\n",
    "- 我们可将$E_{(w,b)}$分别对$w$和$b$求导，得到\n",
    "\n",
    "  $$\\eqalign{\n",
    "    & {{\\partial E(w,b)} \\over {\\partial w}} = 2\\left( {w\\sum\\limits_{i = 1}^n {x_i^2 - \\sum\\limits_{i = 1}^n {({y_i} - b){x_i}} } } \\right)  \\cr \n",
    "    & {{\\partial E(w,b)} \\over {\\partial b}} = 2\\left( {nb - \\sum\\limits_{i = 1}^n {({y_i} - w{x_i})} } \\right) \\cr}$$\n",
    "\n",
    "- 令上两式为零可得到$w$和$b$最优解的闭式（closed-form）解：\n",
    "\n",
    "  $$\\eqalign{\n",
    "    w &  = {{\\sum\\limits_{i = 1}^n {{y_i}({x_i} - \\bar x)} } \\over {\\sum\\limits_{i = 1}^n {x_i^2 - {\\textstyle{1 \\over n}}{{\\left( {\\sum\\limits_{i = 1}^n {{x_i}} } \\right)}^2}} }} \\cr \n",
    "    b &  = {\\textstyle{1 \\over n}}\\sum\\limits_{i = 1}^n {({y_i} - w{x_i})}  \\cr}$$\n",
    "\n",
    "  其中，$$\\bar x = {\\textstyle{1 \\over n}}\\sum\\limits_{i = 1}^n {{x_i}} $$为$x$的均值。\n"
   ]
  },
  {
   "cell_type": "markdown",
   "metadata": {},
   "source": [
    "#### 更一般的情况\n",
    "给定数据集D，样本由d个属性描述，此时我们试图学得\n",
    "\n",
    "$f(\\boldsymbol {x_i}) = \\boldsymbol {w^T}\\boldsymbol {x_i} + b$, 使得$f({x_i}) \\simeq {y_i}$\n",
    "\n",
    "这称为“多元线性回归”（multivariate linear regression)."
   ]
  },
  {
   "cell_type": "markdown",
   "metadata": {},
   "source": [
    "类似的，可利用最小二乘法来对$w$和$b$进行估计。为便于讨论，我们把$w$和$b$吸收入向量形式$\\widehat w = (w;b)$。\n",
    "\n",
    "相应的，把数据集D表示为一个mx(d+1)大小的矩阵${\\bf{X}}$，其中每行对应于一个示例，该行前d个元素对应于前d个属性值，最后一个元素恒置为1，即\n",
    "$${\\bf{X}} = \\left( {\\matrix{\n",
    "   {{x_{11}}} &  \\cdots  & {{x_{1d}}} & 1  \\cr \n",
    "   {{x_{21}}} &  \\cdots  & {{x_{2d}}} & 1  \\cr \n",
    "    \\vdots  &  \\ddots  &  \\vdots  & 1  \\cr \n",
    "   {{x_{m1}}} &  \\cdots  & {{x_{md}}} & 1  \\cr  } } \\right) = \\left( {\\matrix{\n",
    "   {x_1^T}  \\cr \n",
    "   {x_2^T}  \\cr \n",
    "    \\vdots   \\cr \n",
    "   {x_m^T}  \\cr  } \\matrix{\n",
    "   1  \\cr \n",
    "   1  \\cr \n",
    "    \\vdots   \\cr \n",
    "   1  \\cr  } } \\right)$$"
   ]
  },
  {
   "cell_type": "markdown",
   "metadata": {},
   "source": [
    "再把`标记`也写成向量形式$\\boldsymbol{y}=(y_1;y_2;...;y_m)$，有\n",
    "\n",
    "$$ \\hat {\\boldsymbol {w}^*} = \\mathop {\\arg \\min }\\limits_{\\hat w} \\boldsymbol{(y - X\\hat w)^T}\\boldsymbol {(y - X\\hat w)}$$\n",
    "\n",
    "令${E_{\\hat w}} = {(\\boldsymbol y - {\\bf{X}}\\boldsymbol {\\hat w})^T}(\\boldsymbol y - {\\bf{X}}\\boldsymbol {\\hat w})$，对$\\hat w$求导得到：\n",
    "\n",
    "$${{\\partial {E_{\\hat w}}} \\over {\\partial \\hat {\\boldsymbol w}}} = 2{{\\bf{X}}^T}({\\bf{X}}\\hat w - \\boldsymbol y)$$\n",
    "\n",
    "令上式为零可得$\\hat {w}$最优解的闭式解。"
   ]
  },
  {
   "cell_type": "markdown",
   "metadata": {},
   "source": [
    "当${{\\bf{X}}^T}{\\bf{X}}$为满秩矩阵或正定矩阵时，令上式为零可得：\n",
    "$$\\boldsymbol {\\hat w^*} = {({{\\bf{X}}^T}{\\bf{X}})^{ - 1}}{{\\bf{X}}^T}\\boldsymbol {y}$$\n",
    "令$\\boldsymbol {\\hat x_i} = (\\boldsymbol{x_i};1)$，则最终学得的多元线性回归模型为\n",
    "$$f({\\boldsymbol{\\hat x_i}}) = \\boldsymbol {\\hat x_i}{({{\\bf{X}}^T}{\\bf{X}})^{ - 1}}{{\\bf{X}}^T}\\boldsymbol y$$"
   ]
  },
  {
   "cell_type": "markdown",
   "metadata": {},
   "source": [
    "# 广义线性模型"
   ]
  },
  {
   "cell_type": "markdown",
   "metadata": {},
   "source": [
    "线性回归假定输入空间到输出空间的函数映射成线性关系，但现实应用中，很多问题都是非线性的。为了拓展其应用场景，我们可以将线性回归的预测值做一个非线性的函数变化去逼近真实值，这样得到的模型统称为广义线性模型(generalized linear model)：\n",
    "$$y = {g^{ - 1}}(\\boldsymbol{w^T}\\boldsymbol x + b)$$\n",
    "其中函数$g(\\cdot)$称为“联系函数”（link function），它`连续且充分光滑`。\n",
    "\n",
    "当联系函数为$g(\\cdot)=ln(\\cdot)$时，称为对数线性回归。即\n",
    "$$\\ln y= \\boldsymbol{w^T}\\boldsymbol x + b \\\\\n",
    "y = e^{\\boldsymbol{w^T}\\boldsymbol x + b}$$"
   ]
  },
  {
   "cell_type": "markdown",
   "metadata": {},
   "source": [
    "# 逻辑斯蒂回归"
   ]
  },
  {
   "cell_type": "markdown",
   "metadata": {},
   "source": [
    "前面介绍的都是完成回归任务，如果要做的是分类任务该怎么办呢？\n",
    "\n",
    "按照上面介绍的广义线性模型，要完成分类任务，也就是去寻找一个合适的$g(\\cdot)$函数。为了简化问题，我们先考虑二分类任务，其输出标记$y \\in \\{ 0,1\\}$。线性模型产生的预测值$z=\\boldsymbol{w^T}\\boldsymbol {x} + b$是实值，因此，我们需要将实值z转换为0/1值。最理想的是“单位阶跃函数”。\n",
    "$$\n",
    "y=\\begin{cases}\n",
    "0,&z<0 \\\\ 0.5, &z=0 \\\\ 1,&z>0\n",
    "\\end{cases}\n",
    "$$\n",
    "即若预测值z大于零就判为正例，小于零则判为反例，预测值为临界值零则可任意判定，如图所示\n",
    "![1](img\\1.jpg)\n",
    "从图中可以发现，单位阶跃函数不连续，因此不能直接用作联系函数$g(\\cdot)$。于是我们希望找到能在一定程度上近似单位阶跃函数的替代函数，并希望它在临界点连续且单调可微。\n",
    "\n",
    "对数几率函数（logistic function）正是这样一个常用的替代函数。\n",
    "$$y = \\frac{1}{{1 + {e^{ - (\\boldsymbol{w^T}\\boldsymbol x + b)}}}}$$\n",
    "从图中可以看出，它的图像形式S，对这类图像形式S的函数称为\"Sigmoid函数\"，对数几率函数是它最重要的代表。"
   ]
  },
  {
   "cell_type": "markdown",
   "metadata": {},
   "source": [
    "这种利用对数几率函数去逼近真实标记的对数几率的模型称为“对数几率回归”，又常叫做“逻辑斯蒂回归”，虽然它的名字是“回归”，但实际上是一种分类学习方法。\n",
    "\n",
    "**对数逻辑回归有很多优点：**\n",
    "- 1.可以直接对分类可能性进行预测，将y视为样本x作为正例的概率；\n",
    "- 2.无需事先假设数据分布，这样避免了假设分布不准确带来的问题；\n",
    "- 3.它是任意阶可导的凸函数，可直接应用现有的数值优化算法求取最优解。"
   ]
  },
  {
   "cell_type": "markdown",
   "metadata": {},
   "source": [
    "### 参数$\\boldsymbol w$和$b$的确定"
   ]
  },
  {
   "cell_type": "markdown",
   "metadata": {
    "collapsed": true
   },
   "source": [
    "将y视为样本$\\boldsymbol x$作为正例的可能性。显然有：\n",
    "$$p(y=1|\\boldsymbol  x) = \\frac{{{e^{\\boldsymbol {w^T}\\boldsymbol x + b}}}}{{1 + {e^{\\boldsymbol {w^T}\\boldsymbol x + b}}}}$$\n",
    "$$p(y=0|\\boldsymbol  x) = \\frac{1}{{1 + {e^{\\boldsymbol {w^T}\\boldsymbol x + b}}}}$$\n",
    "\n",
    "于是，可通过“极大似然法”来估计参数$\\boldsymbol w$和$b$。给定数据集$\\{ (\\boldsymbol {x_i},{y_i})\\} _{i = 1}^m$，其“对数似然”为：\n",
    "$$l(\\boldsymbol w,b) = \\sum\\limits_{i = 1}^n {\\ln p({y_i}|\\boldsymbol {x_i};\\boldsymbol w,b)} $$\n",
    "令\n",
    "$$\\eqalign{\n",
    "  & \\boldsymbol \\beta  = (\\boldsymbol w;b),\\hat {\\boldsymbol x} = (\\boldsymbol x;1)  \\cr \n",
    "  & {\\boldsymbol \\beta ^T}\\hat {\\boldsymbol x} = \\boldsymbol{w^T}\\boldsymbol x + b  \\cr \n",
    "  & {p_1}(\\boldsymbol {\\hat x};\\boldsymbol \\beta ) = p(y = 1|\\boldsymbol {\\hat x};\\boldsymbol \\beta )  \\cr \n",
    "  & {p_0}(\\boldsymbol {\\hat x};\\boldsymbol \\beta ) = p(y = 0|\\boldsymbol {\\hat x};\\boldsymbol \\beta ) \\cr} $$\n",
    "则似然项可重写为：\n",
    "$$p({y_i}|\\boldsymbol {x_i};\\boldsymbol w,b) = {y_i}{p_1}({\\boldsymbol {\\hat x_i}};\\boldsymbol \\beta ) + (1 - {y_i}){p_0}(\\boldsymbol {\\hat x};\\boldsymbol \\beta )$$\n",
    "将上式带入似然函数：\n",
    "\n",
    "$$\\eqalign{\n",
    "  l(\\beta ) &  = \\sum\\limits_{i = 1}^n {\\ln ({y_i}{p_1}(\\hat x;\\beta ) + (1 - {y_i}){p_0}(\\hat x;\\beta )}  \\cr \n",
    "   &  = \\sum\\limits_{i = 1}^n {\\ln \\left( {{y_i}\\frac{{{e^{{\\beta ^T}\\hat x}}}}{{1 + {e^{{\\beta ^T}\\hat x}}}} + (1 - {y_i})\\frac{1}{{1 + {e^{{\\beta ^T}\\hat x}}}}} \\right)}  \\cr \n",
    "   &  = \\sum\\limits_{i = 1}^n {\\ln \\left( {\\frac{{{y_i}{e^{{\\beta ^T}\\hat x}} + (1 - {y_i})}}{{1 + {e^{{\\beta ^T}\\hat x}}}}} \\right)}  \\cr \n",
    "   &  = \\sum\\limits_{i = 1}^n {\\ln \\left( {\\frac{{{y_i}({e^{{\\beta ^T}\\hat x}} - 1) + 1}}{{1 + {e^{{\\beta ^T}\\hat x}}}}} \\right)}  \\cr \n",
    "   &  = \\sum\\limits_{i = 1}^n {\\left( {\\ln ({y_i}({e^{{\\beta ^T}\\hat x}} - 1) + 1) - \\ln (1 + {e^{{\\beta ^T}\\hat x}})} \\right)}  \\cr \n",
    "   &  =\\begin{cases}\n",
    "{\\sum\\limits_{i = 1}^n { - \\ln (1 + {e^{{\\beta ^T}\\hat x}})} },&y_i=0 \\\\ {\\sum\\limits_{i = 1}^n {({\\beta ^T}\\hat x - \\ln (1 + {e^{{\\beta ^T}\\hat x}}))} },&y_i=1 \\cr\n",
    "\\end{cases}} $$\n",
    "考虑到$y_i \\in \\{0, 1\\}$，即最大化$l(\\boldsymbol w,b)$等价于最小化\n",
    "$$l(\\boldsymbol \\beta ) = \\sum\\limits_{i = 1}^n {(-y_i\\boldsymbol{\\beta ^T}\\boldsymbol {\\hat x_i} + \\ln (1 + {e^{{\\beta ^T}\\hat x_i}}))} $$"
   ]
  },
  {
   "cell_type": "markdown",
   "metadata": {
    "collapsed": true
   },
   "source": [
    "接下来可以利用数值优化算法对其求解，即\n",
    "$$\\beta ^* {\\text{ = }}\\mathop {\\arg \\min }\\limits_\\beta  l(\\beta )$$\n"
   ]
  },
  {
   "cell_type": "code",
   "execution_count": null,
   "metadata": {
    "collapsed": true
   },
   "outputs": [],
   "source": []
  }
 ],
 "metadata": {
  "kernelspec": {
   "display_name": "Python 3",
   "language": "python",
   "name": "python3"
  },
  "language_info": {
   "codemirror_mode": {
    "name": "ipython",
    "version": 3
   },
   "file_extension": ".py",
   "mimetype": "text/x-python",
   "name": "python",
   "nbconvert_exporter": "python",
   "pygments_lexer": "ipython3",
   "version": "3.6.8"
  }
 },
 "nbformat": 4,
 "nbformat_minor": 2
}
