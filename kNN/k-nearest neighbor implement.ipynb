{
 "cells": [
  {
   "cell_type": "markdown",
   "metadata": {},
   "source": [
    "# 代码实现\n",
    "知道KNN的原理后，应该可以很轻易的写出代码了，这里介绍一下在距离计算上的优化，在结尾给上完整代码(代码比较乱，知道思想就好)。"
   ]
  },
  {
   "cell_type": "markdown",
   "metadata": {},
   "source": [
    "函数的输入：`train_X`、`test_X`是numpy array，假设它们的shape分别为(n, 4)、(m, 4)；\n",
    "要求输出的是它们两点间的距离矩阵，shape为(n, m)。"
   ]
  },
  {
   "cell_type": "markdown",
   "metadata": {},
   "source": [
    "不就是计算两点之间的距离，再存起来吗，直接暴力上啊︿(￣︶￣)︿，于是就有了下面的"
   ]
  },
  {
   "cell_type": "markdown",
   "metadata": {},
   "source": [
    "### 双循环暴力实现"
   ]
  },
  {
   "cell_type": "markdown",
   "metadata": {},
   "source": [
    "``` Python\n",
    "def euclideanDistance_two_loops(train_X, test_X):\n",
    "    ''' Calculate two-point Euclidean distance\n",
    "    Args:\n",
    "        train_X: Numpy array type training set.\n",
    "        test_X: Numpy array type test set.\n",
    "    Returns:\n",
    "        dists: A numpy array of shape (num_test, num_train) where dists[i, j]\n",
    "        is the Euclidean distance between the ith test point and the jth training point.\n",
    "    '''\n",
    "    num_test = test_X.shape[0]\n",
    "    num_train = train_X.shape[0]\n",
    "    dists = np.zeros((num_test, num_train))\n",
    "    for i in range(num_test):\n",
    "        for j in range(num_train):\n",
    "            test_line = test_X[i]\n",
    "            train_line = train_X[j]\n",
    "            temp = np.subtract(test_line, train_line)\n",
    "            temp = np.power(temp, 2)\n",
    "            dists[i][j] = np.sqrt(temp.sum())\n",
    "    return dists\n",
    "```"
   ]
  },
  {
   "cell_type": "markdown",
   "metadata": {},
   "source": [
    "不知道你有没有想过，这里的样本数只有100多个，所以时间上感觉没有等太久，但是当样本量非常大的时候呢，双循环计算的弊端就显露出来了。解决方案是把它转换为两个矩阵之间的运算，这样就能避免使用循环了。"
   ]
  },
  {
   "cell_type": "markdown",
   "metadata": {},
   "source": [
    "## 转化为矩阵运算实现\n",
    "### L2 Distance"
   ]
  },
  {
   "cell_type": "markdown",
   "metadata": {},
   "source": [
    "此处参考[CSDNfrankzd的博客](https://blog.csdn.net/frankzd/article/details/80251042)<br>\n",
    "记测试集矩阵P的大小为$M*D$，训练集矩阵C的大小为$N*D$（测试集中共有M个点，每个点为D维特征向量。训练集中共有N个点，每个点为D维特征向量） <br><br>\n",
    "记$P_{i}$是P的第i行$P_i = [ P_{i1}\\quad P_{i2} \\cdots P_{iD}]$，记$C_{j}$是C的第j行$C_j = [ C_{j1} C_{j2} \\cdots \\quad C_{jD}]$\n",
    "- 首先计算Pi和Cj之间的距离dist(i,j) <br><br>\n",
    "$d(P_i,C_j) = \\sqrt{(P_{i1}-C_{j1})^2+(P_{i2}-C_{j2})^2+\\cdots+(P_{iD}-C_{jD})^2}\\\\ =\\sqrt{(P_{i1}^2+P_{i2}^2+\\cdots+P_{iD}^2)+(C_{j1}^2+C_{j2}^2+\\cdots+C_{jD}^2)-2\\times(P_{i1}C_{j1}+P_{i2}C_{j2}+\\cdots+P_{iD}C_{iD})}\\\\=\\sqrt{\\left \\| P_i\\right \\|^2+\\left\\|C_j\\right\\|^2-2\\times P_iC_j^T}$\n",
    "<br><br>\n",
    "- 我们可以推广到距离矩阵的第i行的计算公式 <br><br>\n",
    "$dist[i]=\\sqrt{(\\left\\|P_i\\right\\|^2\\quad \\left\\|P_i\\right\\|^2 \\cdots \\left\\|P_i\\right\\|^2)+(\\left\\|C_1\\right\\|^2 \\quad \\left\\|C_2\\right\\|^2 \\cdots \\left\\|C_N\\right\\|^2)-2\\times P_i(C_1^T \\quad C_2^T \\cdots C_N^T)}\\\\=\\sqrt{(\\left\\|P_i\\right\\|^2\\quad \\left\\|P_i\\right\\|^2 \\cdots \\left\\|P_i\\right\\|^2)+(\\left\\|C_1\\right\\|^2 \\quad \\left\\|C_2\\right\\|^2 \\cdots \\left\\|C_N\\right\\|^2)-2\\times P_iC^T}$\n",
    "<br><br>\n",
    "- 继续将公式推广为整个距离矩阵(也就是完全平方公式) <br><br>\n",
    "$dist=\\sqrt{\\begin{pmatrix}\\left\\|P_1\\right\\|^2 & \\left\\|P_1\\right\\|^2 & \\cdots & \\left\\|P_1\\right\\|^2\\\\\\left\\|P_2\\right\\|^2 & \\left\\|P_2\\right\\|^2 & \\cdots & \\left\\|P_2\\right\\|^2\\\\\\vdots & \\vdots & \\ddots & \\vdots \\\\\\left\\|P_M\\right\\|^2 & \\left\\|P_M\\right\\|^2 & \\cdots & \\left\\|P_M\\right\\|^2 \\end{pmatrix}+\\begin{pmatrix}\\left\\|C_1\\right\\|^2 & \\left\\|C_2\\right\\|^2 & \\cdots & \\left\\|C_N\\right\\|^2\\\\\\left\\|C_1\\right\\|^2 & \\left\\|C_2\\right\\|^2 & \\cdots & \\left\\|C_N\\right\\|^2\\\\\\vdots & \\vdots & \\ddots & \\vdots \\\\\\left\\|C_1\\right\\|^2 & \\left\\|C_2\\right\\|^2 & \\cdots & \\left\\|C_N\\right\\|^2 \\end{pmatrix}-2\\times PC^T}$"
   ]
  },
  {
   "cell_type": "markdown",
   "metadata": {},
   "source": [
    "知道距离矩阵怎么算出来的之后，在代码上只需要套公式带入就能实现了。"
   ]
  },
  {
   "cell_type": "markdown",
   "metadata": {},
   "source": [
    "``` Python\n",
    "def euclideanDistance_no_loops(train_X, test_X):\n",
    "    num_test = test_X.shape[0]\n",
    "    num_train = train_X.shape[0]\n",
    "\n",
    "    sum_train = np.power(train_X, 2)\n",
    "    sum_train = sum_train.sum(axis=1)\n",
    "    sum_train = sum_train * np.ones((num_test, num_train))\n",
    "\n",
    "    sum_test = np.power(test_X, 2)\n",
    "    sum_test = sum_test.sum(axis=1)\n",
    "    sum_test = sum_test * np.ones((1, sum_train.shape[0]))\n",
    "    sum_test = sum_test.T\n",
    "\n",
    "    sum = sum_train + sum_test - 2 * np.dot(test_X, train_X.T)\n",
    "    dists = np.sqrt(sum)\n",
    "    return dists\n",
    "```"
   ]
  },
  {
   "cell_type": "markdown",
   "metadata": {},
   "source": [
    "是不是很简单，这里两种方法我们衡量两点间距离的标准是`欧氏距离`。如果想用其他的标准呢，比如$L_{1}$距离该怎么实现呢，这里我参照上面推导公式的思想得出了计算$L_{1}$距离的矩阵运算。"
   ]
  },
  {
   "cell_type": "markdown",
   "metadata": {},
   "source": [
    "### L1 Distance"
   ]
  },
  {
   "cell_type": "markdown",
   "metadata": {},
   "source": [
    "记测试集矩阵P的大小为$M*D$，训练集矩阵C的大小为$N*D$（测试集中共有M个点，每个点为D维特征向量。训练集中共有N个点，每个点为D维特征向量） <br><br>\n",
    "记$P_{i}$是P的第i行$P_i = [ P_{i1}\\quad P_{i2} \\cdots P_{iD}]$，记$C_{j}$是C的第j行$C_j = [ C_{j1} C_{j2} \\cdots \\quad C_{jD}]$\n",
    "- 首先计算Pi和Cj之间的距离dist(i,j)<br><br>\n",
    "$d(P_{i}, C_{j}) = |P_{i1} - C_{j1}| + |P_{i2} - C_{j2}| + \\cdots + |P_{iD} - C_{jD}|$\n",
    "\n",
    "\n",
    "- 我们可以推广到距离矩阵的第i行的计算公式 <br><br>\n",
    "$dist[i] = \\left | [P_{i}\\quad P_{i} \\cdots P_{i}] - [C_{1}\\quad C_{2}\\cdots C_{N}] \\right|=[|P_{i} - C_{1}|\\quad |P_{i} - C_{2}| \\cdots |P_{i} - C_{N}|]$\n",
    "\n",
    "\n",
    "- 继续将公式推广为整个距离矩阵 <br><br>\n",
    "$dist = \\left |  \\left[\\begin{matrix}P_{1} & P_{1} & \\cdots & P_{1} \\cr P_{2} & P_{2} & \\cdots & P_{2} \\cr \\vdots & \\vdots & \\ddots & \\vdots \\cr P_{M} & P_{M} & \\cdots & P_{M} \\end{matrix} \\right]  - \\left[\\begin{matrix}C_{1} & C_{2} & \\cdots & C_{N} \\cr C_{1} & C_{2} & \\cdots & C_{N} \\cr \\vdots & \\vdots & \\ddots & \\vdots \\cr C_{1} & C_{2} & \\cdots & C_{N} \\end{matrix} \\right] \\right | = \\left [\\begin{matrix} |P_{1} - C_{1}| & |P_{1} - C_{2}| & \\cdots & |P_{1} - C_{N}| \\cr\n",
    "|P_{2} - C_{1}| & |P_{2}-C_{2}| & \\cdots & |P_{2} - C_{N}| \\cr\n",
    "\\vdots & \\vdots & \\ddots & \\vdots \\cr \n",
    "|P_{M} - C_{1}| & |P_{M} - C_{2}| & \\cdots & |P_{M} - C_{N}|\\end{matrix}\\right ]$\n",
    "\n",
    "<br>其中$P_i = [ P_{i1}\\quad P_{i2} \\cdots P_{iD}]$、$C_j = [ C_{j1} C_{j2} \\cdots \\quad C_{jD}]$"
   ]
  },
  {
   "cell_type": "markdown",
   "metadata": {},
   "source": [
    "``` Python\n",
    "def l1_distance_no_loops(train_X, test_X):\n",
    "    num_test = test_X.shape[0]\n",
    "    num_train = train_X.shape[0]\n",
    "\n",
    "    test = np.tile(test_X, (num_train, 1, 1))\n",
    "    train = np.tile(train_X, (num_test, 1, 1))\n",
    "    train = np.transpose(train, axes=(1, 0, 2))\n",
    "\n",
    "    sum = np.subtract(test, train)\n",
    "    sum = np.abs(sum)\n",
    "    sum = np.sum(sum, axis=2)\n",
    "    dists = sum.T\n",
    "    return dists\n",
    "```"
   ]
  },
  {
   "cell_type": "markdown",
   "metadata": {},
   "source": [
    "由于测试集样本数量有限，两种距离衡量标准下的准确率分别是0.94和0.98。"
   ]
  },
  {
   "cell_type": "markdown",
   "metadata": {},
   "source": [
    "## 完整代码"
   ]
  },
  {
   "cell_type": "code",
   "execution_count": null,
   "metadata": {},
   "outputs": [],
   "source": [
    "``` Python\n",
    "import pandas as pd\n",
    "import numpy as np\n",
    "import random\n",
    "from collections import Counter\n",
    "\n",
    "\n",
    "def load_data(path, rate=0.8):\n",
    "    ''' Making dataSet\n",
    "\n",
    "    Args:\n",
    "        path: DataSet file path.\n",
    "        rate: TrainSet percentage.\n",
    "    Returns:\n",
    "        trainSet: Training set.\n",
    "        trainLabel: Training label.\n",
    "        testSet: Test set.\n",
    "        testLabel: Test label.\n",
    "    '''\n",
    "    data = pd.read_csv(path)\n",
    "    randIndex = random.sample(range(0, len(data)), len(data))\n",
    "    trainSet = data.loc[randIndex[:int(len(data) * rate)]]\n",
    "    testSet = data.loc[randIndex[int(len(data) * rate):]]\n",
    "    trainLabel = trainSet['name']\n",
    "    testLabel = testSet['name']\n",
    "    trainSet.drop('name', axis=1, inplace=True)\n",
    "    testSet.drop('name', axis=1, inplace=True)\n",
    "    return np.array(trainSet), np.array(trainLabel), np.array(testSet), np.array(testLabel)\n",
    "\n",
    "\n",
    "def euclideanDistance_two_loops(train_X, test_X):\n",
    "    ''' Calculate two-point Euclidean distance\n",
    "\n",
    "    Args:\n",
    "        train_X: Numpy array type training set.\n",
    "        test_X: Numpy array type test set.\n",
    "    Returns:\n",
    "        dists: A numpy array of shape (num_test, num_train) where dists[i, j]\n",
    "        is the Euclidean distance between the ith test point and the jth training point.\n",
    "    '''\n",
    "\n",
    "    num_test = test_X.shape[0]\n",
    "    num_train = train_X.shape[0]\n",
    "    dists = np.zeros((num_test, num_train))\n",
    "    for i in range(num_test):\n",
    "        for j in range(num_train):\n",
    "            test_line = test_X[i]\n",
    "            train_line = train_X[j]\n",
    "            temp = np.subtract(test_line, train_line)\n",
    "            temp = np.power(temp, 2)\n",
    "            dists[i][j] = np.sqrt(temp.sum())\n",
    "    return dists\n",
    "\n",
    "\n",
    "def euclideanDistance_no_loops(train_X, test_X):\n",
    "    '''Calculate two-point Euclidean distance without loops\n",
    "\n",
    "    Input / Output: Same as euclideanDistance_two_loops\n",
    "    '''\n",
    "\n",
    "    num_test = test_X.shape[0]\n",
    "    num_train = train_X.shape[0]\n",
    "\n",
    "    sum_train = np.power(train_X, 2)\n",
    "    sum_train = sum_train.sum(axis=1)\n",
    "    sum_train = sum_train * np.ones((num_test, num_train))\n",
    "\n",
    "    sum_test = np.power(test_X, 2)\n",
    "    sum_test = sum_test.sum(axis=1)\n",
    "    sum_test = sum_test * np.ones((1, sum_train.shape[0]))\n",
    "    sum_test = sum_test.T\n",
    "\n",
    "    sum = sum_train + sum_test - 2 * np.dot(test_X, train_X.T)\n",
    "    dists = np.sqrt(sum)\n",
    "    return dists\n",
    "\n",
    "\n",
    "def l1_distance_no_loops(train_X, test_X):\n",
    "    '''Calculate two-point L1 distance\n",
    "    Args:\n",
    "        train_X: Numpy array type training set.\n",
    "        test_X: Numpy array type test set.\n",
    "    Returns:\n",
    "        dists: A numpy array of shape (num_test, num_train) where dists[i, j]\n",
    "        is the Euclidean distance between the ith test point and the jth training point.\n",
    "    '''\n",
    "\n",
    "    num_test = test_X.shape[0]\n",
    "    num_train = train_X.shape[0]\n",
    "\n",
    "    test = np.tile(test_X, (num_train, 1, 1))\n",
    "    train = np.tile(train_X, (num_test, 1, 1))\n",
    "    train = np.transpose(train, axes=(1, 0, 2))\n",
    "\n",
    "    sum = np.subtract(test, train)\n",
    "    sum = np.abs(sum)\n",
    "    sum = np.sum(sum, axis=2)\n",
    "    dists = sum.T\n",
    "    return dists\n",
    "\n",
    "\n",
    "def predict_labels(dists, labels, k=1):\n",
    "    ''' To predict a label for each test point.\n",
    "    Args:\n",
    "        dists: a numpy array of shape (num_test, num_train) where dists[i, j].\n",
    "        labels: each test point real label.\n",
    "\n",
    "    Returns:\n",
    "        y_pred: knn predict target label.\n",
    "    '''\n",
    "\n",
    "    num_test = dists.shape[0]\n",
    "    y_pred = []\n",
    "    for i in range(num_test):\n",
    "        index = np.argsort(dists[i])\n",
    "        index = index[:k]\n",
    "        closest_y = labels[index]\n",
    "        name, _ = Counter(closest_y).most_common(1)[0]\n",
    "        y_pred.append(name)\n",
    "    return y_pred\n",
    "\n",
    "\n",
    "def getAccuracy(y_pred, y):\n",
    "    ''' Calculate the predict accuracy.\n",
    "    Args:\n",
    "        y_pred: knn predict target label.\n",
    "        y: each test point real label.\n",
    "\n",
    "    Returns:\n",
    "        accuracy: average accuracy in test set.\n",
    "    '''\n",
    "    num_correct = np.sum(y_pred == y)\n",
    "    accuracy = float(num_correct) / len(y)\n",
    "    return accuracy\n",
    "\n",
    "\n",
    "if __name__ == \"__main__\":\n",
    "    trainData, trainLabel, testData, testLabel = load_data(\"irisdata.txt\", 0.67)\n",
    "    dists = l1_distance_no_loops(trainData, testData)\n",
    "    y_pred = predict_labels(dists, trainLabel, k=3)\n",
    "    accuracy = getAccuracy(y_pred, testLabel)\n",
    "    print(accuracy)\n",
    "\n",
    "```"
   ]
  }
 ],
 "metadata": {
  "kernelspec": {
   "display_name": "Python 3",
   "language": "python",
   "name": "python3"
  },
  "language_info": {
   "codemirror_mode": {
    "name": "ipython",
    "version": 3
   },
   "file_extension": ".py",
   "mimetype": "text/x-python",
   "name": "python",
   "nbconvert_exporter": "python",
   "pygments_lexer": "ipython3",
   "version": "3.6.8"
  }
 },
 "nbformat": 4,
 "nbformat_minor": 2
}
